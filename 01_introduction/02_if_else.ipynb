{
 "cells": [
  {
   "cell_type": "markdown",
   "metadata": {},
   "source": [
    "# Introduction\n",
    "\n",
    "Juan Camilo Henao Londono\n",
    "\n",
    "Exercise from [Hacker rank](https://www.hackerrank.com/challenges/py-if-else/problem)"
   ]
  },
  {
   "cell_type": "markdown",
   "metadata": {},
   "source": [
    "# Python If-Else\n",
    "\n",
    "**Task**\n",
    "\n",
    "Given an integer, $n$, perform the following conditional actions:\n",
    "\n",
    "* If $n$ is odd, print ```Weird```\n",
    "* If $n$ is even and in the inclusive range of $2$ to $5$, print ```Not Weird```\n",
    "* If $n$ is even and in the inclusive range of $6$ to $20$, print ```Weird```\n",
    "* If $n$ is even and greater than $20$, print ```Not Weird```\n",
    "\n",
    "**Input Format**\n",
    "\n",
    "A single line containing a positive integer, $n$.\n",
    "\n",
    "**Constraints**\n",
    "\n",
    "* $1 \\le n \\le 100$\n",
    "\n",
    "**Output Format**\n",
    "\n",
    "Print ```Weird``` if the number is weird; otherwise, print ```Not Weird```.\n",
    "\n",
    "**Sample Input 0**\n",
    "\n",
    "```\n",
    "3\n",
    "```\n",
    "\n",
    "**Sample Output 0**\n",
    "\n",
    "```\n",
    "Weird\n",
    "```\n",
    "\n",
    "**Explanation 0**\n",
    "\n",
    "$n = 3$\n",
    "$n$ is odd and odd numbers are weird, so we print ```Weird```.\n",
    "\n",
    "**Sample Input 1**\n",
    "\n",
    "```\n",
    "24\n",
    "```\n",
    "\n",
    "**Sample Output 1**\n",
    "\n",
    "```\n",
    "Not Weird\n",
    "```\n",
    "\n",
    "**Explanation 1**\n",
    "\n",
    "$n = 24$\n",
    "\n",
    "$n \\ge 20$ and $n$ is even, so it isn't weird. Thus, we print ```Not Weird```.\n"
   ]
  },
  {
   "cell_type": "markdown",
   "metadata": {},
   "source": [
    "## My implementation"
   ]
  },
  {
   "cell_type": "markdown",
   "metadata": {},
   "source": [
    "I used the typycal ```if ... else``` statement to fullfil the conditions"
   ]
  },
  {
   "cell_type": "code",
   "execution_count": 1,
   "metadata": {},
   "outputs": [
    {
     "name": "stdout",
     "output_type": "stream",
     "text": [
      "6\n",
      "Weird\n"
     ]
    }
   ],
   "source": [
    "N = int(input())\n",
    "\n",
    "if (N%2 != 0):\n",
    "    print('Weird')\n",
    "elif (N%2 == 0 and N >= 2 and N <= 5):\n",
    "    print('Not Weird')\n",
    "elif (N%2 == 0 and N >= 6 and N <= 20):\n",
    "    print('Weird')\n",
    "elif(N%2 == 0 and N > 20 and N <= 100):\n",
    "    print('Not Weird')\n"
   ]
  },
  {
   "cell_type": "markdown",
   "metadata": {},
   "source": [
    "## Best implementation in the discussion"
   ]
  },
  {
   "cell_type": "markdown",
   "metadata": {},
   "source": [
    "Implementation using a Dictionary. Using the conditions to obtain the key (```True``` or ```False```), print the expected message"
   ]
  },
  {
   "cell_type": "code",
   "execution_count": 2,
   "metadata": {},
   "outputs": [
    {
     "name": "stdout",
     "output_type": "stream",
     "text": [
      "7\n",
      "Weird\n"
     ]
    }
   ],
   "source": [
    "n = int(input().strip())\n",
    "\n",
    "check = {True: \"Not Weird\", False: \"Weird\"}\n",
    "\n",
    "print(check[n%2 == 0 and (n in range(2,6) or n > 20)])"
   ]
  }
 ],
 "metadata": {
  "kernelspec": {
   "display_name": "Python 3",
   "language": "python",
   "name": "python3"
  },
  "language_info": {
   "codemirror_mode": {
    "name": "ipython",
    "version": 3
   },
   "file_extension": ".py",
   "mimetype": "text/x-python",
   "name": "python",
   "nbconvert_exporter": "python",
   "pygments_lexer": "ipython3",
   "version": "3.6.8"
  }
 },
 "nbformat": 4,
 "nbformat_minor": 2
}
