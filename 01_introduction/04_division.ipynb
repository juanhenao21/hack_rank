{
 "cells": [
  {
   "cell_type": "markdown",
   "metadata": {},
   "source": [
    "# Introduction\n",
    "\n",
    "Juan Camilo Henao Londono\n",
    "\n",
    "Exercise from [Hacker rank](https://www.hackerrank.com/challenges/python-division/problem)"
   ]
  },
  {
   "cell_type": "markdown",
   "metadata": {},
   "source": [
    "# Python: Division\n",
    "\n",
    "**Task**\n",
    "\n",
    "Read two integers and print two lines. The first line should contain integer division, // . The second line should contain float division, / .\n",
    "\n",
    "You don't need to perform any rounding or formatting operations. \n",
    "\n",
    "**Input Format**\n",
    "\n",
    "The first line contains the first integer, $a$. The second line contains the second integer, $b$.\n",
    "\n",
    "**Output Format**\n",
    "\n",
    "Print the two lines as explained above.\n",
    "\n",
    "**Sample Input 0**\n",
    "\n",
    "```\n",
    "4\n",
    "3\n",
    "```\n",
    "\n",
    "**Sample Output 0**\n",
    "\n",
    "```\n",
    "1\n",
    "1.33333333333\n",
    "```"
   ]
  },
  {
   "cell_type": "markdown",
   "metadata": {},
   "source": [
    "## My implementation"
   ]
  },
  {
   "cell_type": "markdown",
   "metadata": {},
   "source": [
    "To obtain the first output line, I divided with the floor division operator ```//```, and for the second line the usual ```/``` operator make the float division, both operators in Python 3. Aditional, I added an exception to assure the division can be done"
   ]
  },
  {
   "cell_type": "code",
   "execution_count": 2,
   "metadata": {},
   "outputs": [
    {
     "name": "stdout",
     "output_type": "stream",
     "text": [
      "3\n",
      "3\n",
      "\n",
      "1\n",
      "1.0\n"
     ]
    }
   ],
   "source": [
    "if __name__ == '__main__':\n",
    "    a = int(input())\n",
    "    b = int(input())\n",
    "    print()\n",
    "\n",
    "    try:\n",
    "        print(a // b)\n",
    "        print(a / b)\n",
    "    except ZeroDivisionError:\n",
    "        print('b can not be zero')\n"
   ]
  },
  {
   "cell_type": "markdown",
   "metadata": {},
   "source": [
    "## Best implementation in the discussion"
   ]
  },
  {
   "cell_type": "markdown",
   "metadata": {},
   "source": [
    "Nothing remarkable"
   ]
  }
 ],
 "metadata": {
  "kernelspec": {
   "display_name": "Python 3",
   "language": "python",
   "name": "python3"
  },
  "language_info": {
   "codemirror_mode": {
    "name": "ipython",
    "version": 3
   },
   "file_extension": ".py",
   "mimetype": "text/x-python",
   "name": "python",
   "nbconvert_exporter": "python",
   "pygments_lexer": "ipython3",
   "version": "3.6.5"
  }
 },
 "nbformat": 4,
 "nbformat_minor": 2
}
