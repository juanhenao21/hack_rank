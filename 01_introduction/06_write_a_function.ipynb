{
 "cells": [
  {
   "cell_type": "markdown",
   "metadata": {},
   "source": [
    "# Introduction\n",
    "\n",
    "Juan Camilo Henao Londono\n",
    "\n",
    "Exercise from [Hacker rank](https://www.hackerrank.com/challenges/write-a-function/problem)"
   ]
  },
  {
   "cell_type": "markdown",
   "metadata": {},
   "source": [
    "# Write a function\n",
    "\n",
    "We add a Leap Day on February 29, almost every four years. The leap day is an extra, or intercalary day and we add it to the shortest month of the year, February.\n",
    "In the Gregorian calendar three criteria must be taken into account to identify leap years:\n",
    "\n",
    "* The year can be evenly divided by 4, is a leap year, unless:\n",
    "    * The year can be evenly divided by 100, it is NOT a leap year, unless:\n",
    "        * The year is also evenly divisible by 400. Then it is a leap year.\n",
    "\n",
    "This means that in the Gregorian calendar, the years 2000 and 2400 are leap years, while 1800, 1900, 2100, 2200, 2300 and 2500 are NOT leap years.\n",
    "\n",
    "**Task**\n",
    "\n",
    "You are given the year, and you have to write a function to check if the year is leap or not.\n",
    "\n",
    "Note that you have to complete the function and remaining code is given as template. \n",
    "\n",
    "**Input Format**\n",
    "\n",
    "Read y, the year that needs to be checked. \n",
    "\n",
    "**Constraints**\n",
    "\n",
    "* $1900 \\le y \\le 10^{5}$\n",
    "\n",
    "**Output Format**\n",
    "\n",
    "Output is taken care of by the template. Your function must return a boolean value (```True```/```False```)\n",
    "\n",
    "**Sample Input 0**\n",
    "\n",
    "```\n",
    "1990\n",
    "```\n",
    "\n",
    "**Sample Output 0**\n",
    "\n",
    "```\n",
    "False\n",
    "```\n",
    "\n",
    "**Explanation 0**\n",
    "\n",
    "1990 is not a multiple of 4 hence it's not a leap year. "
   ]
  },
  {
   "cell_type": "markdown",
   "metadata": {},
   "source": [
    "## My implementation"
   ]
  },
  {
   "cell_type": "markdown",
   "metadata": {},
   "source": [
    "If one of the conditions to be a leap year is achieved, the function return `True`. If not return  `False`. This implementation was used as the exercise give a \"template\" to complete with the code."
   ]
  },
  {
   "cell_type": "code",
   "execution_count": 1,
   "metadata": {},
   "outputs": [
    {
     "name": "stdout",
     "output_type": "stream",
     "text": [
      "2019\n",
      "False\n"
     ]
    }
   ],
   "source": [
    "def is_leap(year):\n",
    "        \n",
    "    if (year%400 == 0 and year%100 == 0):\n",
    "        return True\n",
    "    elif (year%4 == 0 and year%100 != 0):\n",
    "        return True\n",
    "    \n",
    "    return False\n",
    "\n",
    "year = int(input())\n",
    "print(is_leap(year))"
   ]
  },
  {
   "cell_type": "markdown",
   "metadata": {},
   "source": [
    "## Best implementation in the discussion"
   ]
  },
  {
   "cell_type": "markdown",
   "metadata": {},
   "source": [
    "From the discussion:\n",
    "\n",
    "> you should know that doing something like the setup for this challenge inclines you to do is a bad practice. Never do the following:\n",
    "\n",
    "```Python\n",
    "def f():\n",
    "\tif condition:\n",
    "    \treturn True\n",
    "    else:\n",
    "    \treturn False\n",
    "```"
   ]
  },
  {
   "cell_type": "code",
   "execution_count": 2,
   "metadata": {},
   "outputs": [
    {
     "name": "stdout",
     "output_type": "stream",
     "text": [
      "2019\n",
      "False\n"
     ]
    }
   ],
   "source": [
    "def is_leap(year):\n",
    "    return year % 4 == 0 and (year % 400 == 0 or year % 100 != 0)\n",
    "\n",
    "year = int(input())\n",
    "print(is_leap(year))    "
   ]
  }
 ],
 "metadata": {
  "kernelspec": {
   "display_name": "Python 3",
   "language": "python",
   "name": "python3"
  },
  "language_info": {
   "codemirror_mode": {
    "name": "ipython",
    "version": 3
   },
   "file_extension": ".py",
   "mimetype": "text/x-python",
   "name": "python",
   "nbconvert_exporter": "python",
   "pygments_lexer": "ipython3",
   "version": "3.6.8"
  }
 },
 "nbformat": 4,
 "nbformat_minor": 2
}
