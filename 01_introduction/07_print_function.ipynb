{
 "cells": [
  {
   "cell_type": "markdown",
   "metadata": {},
   "source": [
    "# Introduction\n",
    "\n",
    "Juan Camilo Henao Londono\n",
    "\n",
    "Exercise from [Hacker rank](https://www.hackerrank.com/challenges/python-print/problem)"
   ]
  },
  {
   "cell_type": "markdown",
   "metadata": {},
   "source": [
    "# Print Function\n",
    "\n",
    "**Task**\n",
    "\n",
    "Read an integer $N$. Without using any string methods, try to print the following:\n",
    "\n",
    "$$123 \\ldots N$$\n",
    "\n",
    "Note that $\"\\ldots\"$ represents the values in between. \n",
    "\n",
    "**Input Format**\n",
    "\n",
    "The first line contains an integer $N$.\n",
    "\n",
    "**Output Format**\n",
    "\n",
    "Output the answer as explained in the task. \n",
    "\n",
    "**Sample Input 0**\n",
    "\n",
    "```\n",
    "3\n",
    "```\n",
    "\n",
    "**Sample Output 0**\n",
    "\n",
    "```\n",
    "123\n",
    "```"
   ]
  },
  {
   "cell_type": "markdown",
   "metadata": {},
   "source": [
    "## My implementation"
   ]
  },
  {
   "cell_type": "markdown",
   "metadata": {},
   "source": [
    "With a list comprehension generate the values, unpack the list with `*` in the `print()` function, and finally separate the values with no space"
   ]
  },
  {
   "cell_type": "code",
   "execution_count": 1,
   "metadata": {},
   "outputs": [
    {
     "name": "stdout",
     "output_type": "stream",
     "text": [
      "5\n",
      "12345\n"
     ]
    }
   ],
   "source": [
    "if __name__ == '__main__':\n",
    "\n",
    "    n = int(input())\n",
    "    values = [i for i in range(1,n+1)]\n",
    "\n",
    "    print(*values, sep='')"
   ]
  },
  {
   "cell_type": "markdown",
   "metadata": {},
   "source": [
    "## Best implementation in the discussion"
   ]
  },
  {
   "cell_type": "markdown",
   "metadata": {},
   "source": [
    "In the discusion there is not a remarkable implementation, but there is a good explanation of unpacking\n",
    "\n",
    "> In general, you pass in arguments like so:\n",
    "```Python\n",
    "function(arg1,arg2,arg3)\n",
    "```\n",
    "> But, if you put them in a list such as:\n",
    "```Python\n",
    "function([arg1,arg2,arg3])\n",
    "```\n",
    "> then it's like you're only passing in 1 argument (the list) and you'll get an error saying function was expecting 3 arguments and only got 1.\n",
    "> On the other hand if you were to include `*` it would \"unpack\" the list, so that it would still work:\n",
    "```Python\n",
    "function(*[arg1,arg2,arg3])\n",
    "```\n",
    ">becomes\n",
    "```Python\n",
    "function(arg1,arg2,arg3)\n",
    "```"
   ]
  }
 ],
 "metadata": {
  "kernelspec": {
   "display_name": "Python 3",
   "language": "python",
   "name": "python3"
  },
  "language_info": {
   "codemirror_mode": {
    "name": "ipython",
    "version": 3
   },
   "file_extension": ".py",
   "mimetype": "text/x-python",
   "name": "python",
   "nbconvert_exporter": "python",
   "pygments_lexer": "ipython3",
   "version": "3.6.5"
  }
 },
 "nbformat": 4,
 "nbformat_minor": 2
}
