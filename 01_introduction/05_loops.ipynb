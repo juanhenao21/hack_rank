{
 "cells": [
  {
   "cell_type": "markdown",
   "metadata": {},
   "source": [
    "# Introduction\n",
    "\n",
    "Juan Camilo Henao Londono\n",
    "\n",
    "Exercise from [Hacker rank](https://www.hackerrank.com/challenges/python-loops/problem)"
   ]
  },
  {
   "cell_type": "markdown",
   "metadata": {},
   "source": [
    "# Loops\n",
    "\n",
    "**Task**\n",
    "\n",
    "Read an integer $N$. For all non-negative integers $i < N$, print $i^{2}$. See the sample for details.\n",
    "\n",
    "**Input Format**\n",
    "\n",
    "The first and only line contains the integer, $N$.\n",
    "\n",
    "**Constraints**\n",
    "\n",
    "* $1 \\le N \\le 20$\n",
    "\n",
    "**Output Format**\n",
    "\n",
    "Print $N$ lines, one corresponding to each $i$.\n",
    "\n",
    "**Sample Input 0**\n",
    "\n",
    "```\n",
    "5\n",
    "```\n",
    "\n",
    "**Sample Output 0**\n",
    "\n",
    "```\n",
    "0\n",
    "1\n",
    "4\n",
    "9\n",
    "16\n",
    "```"
   ]
  },
  {
   "cell_type": "markdown",
   "metadata": {},
   "source": [
    "## My implementation"
   ]
  },
  {
   "cell_type": "markdown",
   "metadata": {},
   "source": [
    "I just print the arithmetic operations indicated ..."
   ]
  },
  {
   "cell_type": "code",
   "execution_count": 1,
   "metadata": {},
   "outputs": [
    {
     "name": "stdout",
     "output_type": "stream",
     "text": [
      "5\n",
      "\n",
      "0\n",
      "1\n",
      "4\n",
      "9\n",
      "16\n"
     ]
    }
   ],
   "source": [
    "if __name__ == '__main__':\n",
    "    n = int(input())\n",
    "    print()\n",
    "\n",
    "    for i in range(n):\n",
    "        print(i*i)"
   ]
  },
  {
   "cell_type": "markdown",
   "metadata": {},
   "source": [
    "## Best implementation in the discussion"
   ]
  },
  {
   "cell_type": "markdown",
   "metadata": {},
   "source": [
    "Using a list comprehension"
   ]
  },
  {
   "cell_type": "code",
   "execution_count": 2,
   "metadata": {},
   "outputs": [
    {
     "name": "stdout",
     "output_type": "stream",
     "text": [
      "5\n",
      "\n",
      "0\n",
      "1\n",
      "4\n",
      "9\n",
      "16\n"
     ]
    }
   ],
   "source": [
    "if __name__ == '__main__':\n",
    "    \n",
    "    n = int(input())  \n",
    "    print()\n",
    "    \n",
    "    [print(i**2) for i in range(n)]"
   ]
  }
 ],
 "metadata": {
  "kernelspec": {
   "display_name": "Python 3",
   "language": "python",
   "name": "python3"
  },
  "language_info": {
   "codemirror_mode": {
    "name": "ipython",
    "version": 3
   },
   "file_extension": ".py",
   "mimetype": "text/x-python",
   "name": "python",
   "nbconvert_exporter": "python",
   "pygments_lexer": "ipython3",
   "version": "3.6.5"
  }
 },
 "nbformat": 4,
 "nbformat_minor": 2
}
