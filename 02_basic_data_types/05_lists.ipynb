{
 "cells": [
  {
   "cell_type": "markdown",
   "metadata": {},
   "source": [
    "# Basic Data Types\n",
    "\n",
    "Juan Camilo Henao Londono\n",
    "\n",
    "Exercise from [Hacker rank](https://www.hackerrank.com/challenges/python-lists/problem)"
   ]
  },
  {
   "cell_type": "markdown",
   "metadata": {},
   "source": [
    "# Lists\n",
    "\n",
    "**Task**\n",
    "\n",
    "Consider a list (`list = []`). You can perform the following commands:\n",
    "\n",
    "1. `insert i e`: Insert integer $e$ at position $i$.\n",
    "2. `print`: Print the list.\n",
    "3. `remove e`: Delete the first occurrence of integer $e$.\n",
    "4. `append e`: Insert integer $e$ at the end of the list.\n",
    "5. `sort`: Sort the list.\n",
    "6. `pop`: Pop the last element from the list.\n",
    "7. `reverse`: Reverse the list.\n",
    "\n",
    "Initialize your list and read in the value of $n$ followed by $n$ lines of commands where each command will be of the $7$ types listed above. Iterate through each command in order and perform the corresponding operation on your list.\n",
    "\n",
    "**Input Format**\n",
    "\n",
    "The first line contains an integer, $n$, denoting the number of commands.\n",
    "Each line $i$ of the $n$ subsequent lines contains one of the commands described above.\n",
    "\n",
    "**Constraints**\n",
    "\n",
    "* The elements added to the list must be integers.\n",
    "\n",
    "**Output Format**\n",
    "\n",
    "For each command of type `print`, print the list on a new line.\n",
    "\n",
    "**Sample Input 0**\n",
    "\n",
    "```\n",
    "12\n",
    "insert 0 5\n",
    "insert 1 10\n",
    "insert 0 6\n",
    "print\n",
    "remove 6\n",
    "append 9\n",
    "append 1\n",
    "sort\n",
    "print\n",
    "pop\n",
    "reverse\n",
    "print\n",
    "```\n",
    "\n",
    "**Sample Output 0**\n",
    "\n",
    "```\n",
    "[6, 5, 10]\n",
    "[1, 5, 9, 10]\n",
    "[9, 5, 1]\n",
    "```"
   ]
  },
  {
   "cell_type": "markdown",
   "metadata": {},
   "source": [
    "## My implementation"
   ]
  },
  {
   "cell_type": "markdown",
   "metadata": {},
   "source": [
    "."
   ]
  },
  {
   "cell_type": "code",
   "execution_count": 1,
   "metadata": {},
   "outputs": [
    {
     "name": "stdout",
     "output_type": "stream",
     "text": [
      "3\n",
      "Krishna 67 68 69\n",
      "Arjun 70 98 63\n",
      "Malika 52 56 60\n",
      "Malika\n",
      "56.00\n"
     ]
    }
   ],
   "source": [
    "if __name__ == '__main__':\n",
    "    \n",
    "    n = int(input())\n",
    "    student_marks = {}\n",
    "    for _ in range(n):\n",
    "        name, *line = input().split()\n",
    "        scores = list(map(float, line))\n",
    "        student_marks[name] = scores\n",
    "    \n",
    "    query_name = input()\n",
    "    \n",
    "    student = student_marks.get(query_name)\n",
    "    print('{:.2f}'.format(sum(student) / len(student)))"
   ]
  },
  {
   "cell_type": "markdown",
   "metadata": {},
   "source": [
    "## Best implementation in the discussion"
   ]
  },
  {
   "cell_type": "markdown",
   "metadata": {},
   "source": [
    "There is not a remarkable implementation."
   ]
  }
 ],
 "metadata": {
  "kernelspec": {
   "display_name": "Python 3",
   "language": "python",
   "name": "python3"
  },
  "language_info": {
   "codemirror_mode": {
    "name": "ipython",
    "version": 3
   },
   "file_extension": ".py",
   "mimetype": "text/x-python",
   "name": "python",
   "nbconvert_exporter": "python",
   "pygments_lexer": "ipython3",
   "version": "3.6.5"
  }
 },
 "nbformat": 4,
 "nbformat_minor": 2
}
