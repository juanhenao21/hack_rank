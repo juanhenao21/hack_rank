{
 "cells": [
  {
   "cell_type": "markdown",
   "metadata": {},
   "source": [
    "# Basic Data Types\n",
    "\n",
    "Juan Camilo Henao Londono\n",
    "\n",
    "Exercise from [Hacker rank](https://www.hackerrank.com/challenges/list-comprehensions/problem)"
   ]
  },
  {
   "cell_type": "markdown",
   "metadata": {},
   "source": [
    "# List Comprehensions\n",
    "\n",
    "**Task**\n",
    "\n",
    "Let's learn about list comprehensions! You are given three integers $X$, $Y$ and $Z$ representing the dimensions of a cuboid along with an integer $N$. You have to print a list of all possible coordinates given by $(i,j,k)$ on a 3D grid where the sum of $i + j + k$ is not equal to $N$. Here $0 \\le i \\le X; 0 \\le j \\le Y; 0 \\le k \\le Z$, \n",
    "\n",
    "**Input Format**\n",
    "\n",
    "Four integers $X$, $Y$, $Z$ and $N$ each on four separate lines, respectively. \n",
    "\n",
    "**Constraints**\n",
    "\n",
    "* Print the list in lexicographic increasing order.\n",
    "\n",
    "**Sample Input 0**\n",
    "\n",
    "```\n",
    "1\n",
    "1\n",
    "1\n",
    "2\n",
    "```\n",
    "\n",
    "**Sample Output 0**\n",
    "\n",
    "```\n",
    "[[0, 0, 0], [0, 0, 1], [0, 1, 0], [1, 0, 0], [1, 1, 1]]\n",
    "```\n",
    "\n",
    "**Explanation 0**\n",
    "\n",
    "**Concept**\n",
    "\n",
    "You have already used lists in previous hacks. List comprehensions are an elegant way to build a list without having to use different for loops to append values one by one. This example might help.\n",
    "\n",
    "**Example**\n",
    "\n",
    "You are given two integers $x$ and $y$. You need to find out the ordered pairs $(i, j)$, such that $(i + j)$ is not equal to n and print them in lexicographic order. $(0 \\le i \\le x)$ and $(0 \\le j \\le y)$. This is the code if we dont use list comprehensions in Python\n",
    "```Python\n",
    "x = int ( raw_input()) \n",
    "y = int ( raw_input()) \n",
    "n = int ( raw_input()) \n",
    "ar = [] \n",
    "p = 0 \n",
    "\n",
    "for i in range (x + 1): \n",
    "    for j in range(y + 1):\n",
    "        if (i+j != n):\n",
    "            ar.append([]) \n",
    "            ar[p] = [i, j] \n",
    "            p += 1 \n",
    "print(ar)\n",
    "```\n",
    "Other smaller codes may also exist, but using list comprehensions is always a good option. \n",
    "Code using list comprehensions:\n",
    "```Python\n",
    "x = int(input())\n",
    "y = int(input())\n",
    "n = int(input())\n",
    "print ([[i, j] for i in range(x + 1) for j in range(y + 1) if (( i + j ) != n )])\n",
    "```\n",
    "\n",
    "**Sample Input 1**\n",
    "\n",
    "```\n",
    "2\n",
    "2\n",
    "2\n",
    "2\n",
    "```\n",
    "\n",
    "**Sample Output 1**\n",
    "\n",
    "```\n",
    "[[0, 0, 0], [0, 0, 1], [0, 1, 0], [0, 1, 2], [0, 2, 1], [0, 2, 2], [1, 0, 0], [1, 0, 2], [1, 1, 1], [1, 1, 2], [1, 2, 0], [1, 2, 1], [1, 2, 2], [2, 0, 1], [2, 0, 2], [2, 1, 0], [2, 1, 1], [2, 1, 2], [2, 2, 0], [2, 2, 1], [2, 2, 2]]\n",
    "\n",
    "```"
   ]
  },
  {
   "cell_type": "markdown",
   "metadata": {},
   "source": [
    "## My implementation"
   ]
  },
  {
   "cell_type": "markdown",
   "metadata": {},
   "source": [
    "Using the previous example, and extending to a $Z$ coordinate"
   ]
  },
  {
   "cell_type": "code",
   "execution_count": 1,
   "metadata": {},
   "outputs": [
    {
     "name": "stdout",
     "output_type": "stream",
     "text": [
      "3\n",
      "3\n",
      "3\n",
      "2\n",
      "[[0, 0, 0], [0, 0, 1], [0, 0, 3], [0, 1, 0], [0, 1, 2], [0, 1, 3], [0, 2, 1], [0, 2, 2], [0, 2, 3], [0, 3, 0], [0, 3, 1], [0, 3, 2], [0, 3, 3], [1, 0, 0], [1, 0, 2], [1, 0, 3], [1, 1, 1], [1, 1, 2], [1, 1, 3], [1, 2, 0], [1, 2, 1], [1, 2, 2], [1, 2, 3], [1, 3, 0], [1, 3, 1], [1, 3, 2], [1, 3, 3], [2, 0, 1], [2, 0, 2], [2, 0, 3], [2, 1, 0], [2, 1, 1], [2, 1, 2], [2, 1, 3], [2, 2, 0], [2, 2, 1], [2, 2, 2], [2, 2, 3], [2, 3, 0], [2, 3, 1], [2, 3, 2], [2, 3, 3], [3, 0, 0], [3, 0, 1], [3, 0, 2], [3, 0, 3], [3, 1, 0], [3, 1, 1], [3, 1, 2], [3, 1, 3], [3, 2, 0], [3, 2, 1], [3, 2, 2], [3, 2, 3], [3, 3, 0], [3, 3, 1], [3, 3, 2], [3, 3, 3]]\n"
     ]
    }
   ],
   "source": [
    "if __name__ == '__main__':\n",
    "    x = int(input())\n",
    "    y = int(input())\n",
    "    z = int(input())\n",
    "    n = int(input())\n",
    "\n",
    "    print(\n",
    "          [ [ i, j, k] \n",
    "          for i in range( x + 1)\n",
    "          for j in range( y + 1)\n",
    "          for k in range( z + 1)\n",
    "          if ((i + j + k) != n )] )"
   ]
  },
  {
   "cell_type": "markdown",
   "metadata": {},
   "source": [
    "## Best implementation in the discussion"
   ]
  },
  {
   "cell_type": "markdown",
   "metadata": {},
   "source": [
    "There is not a remarkable implementation."
   ]
  }
 ],
 "metadata": {
  "kernelspec": {
   "display_name": "Python 3",
   "language": "python",
   "name": "python3"
  },
  "language_info": {
   "codemirror_mode": {
    "name": "ipython",
    "version": 3
   },
   "file_extension": ".py",
   "mimetype": "text/x-python",
   "name": "python",
   "nbconvert_exporter": "python",
   "pygments_lexer": "ipython3",
   "version": "3.6.8"
  }
 },
 "nbformat": 4,
 "nbformat_minor": 2
}
