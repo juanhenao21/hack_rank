{
 "cells": [
  {
   "cell_type": "markdown",
   "metadata": {},
   "source": [
    "# Basic Data Types\n",
    "\n",
    "Juan Camilo Henao Londono\n",
    "\n",
    "Exercise from [Hacker rank](https://www.hackerrank.com/challenges/find-second-maximum-number-in-a-list/problem)"
   ]
  },
  {
   "cell_type": "markdown",
   "metadata": {},
   "source": [
    "# Find the Runner-Up Score!\n",
    "\n",
    "**Task**\n",
    "\n",
    "Given the participants' score sheet for your University Sports Day, you are required to find the runner-up score. You are given $n$ scores. Store them in a list and find the score of the runner-up. \n",
    "\n",
    "**Input Format**\n",
    "\n",
    "The first line contains $n$. The second line contains an array $A [ ]$ of $n$ integers each separated by a space. \n",
    "\n",
    "**Constraints**\n",
    "\n",
    "* $2 \\le n \\le 10$\n",
    "* $-100 \\le A[i] \\le 100$\n",
    "\n",
    "**Output Format**\n",
    "\n",
    "Print the runner-up score.\n",
    "\n",
    "**Sample Input 0**\n",
    "\n",
    "```\n",
    "5\n",
    "2 3 6 6 5\n",
    "```\n",
    "\n",
    "**Sample Output 0**\n",
    "\n",
    "```\n",
    "5\n",
    "```\n",
    "\n",
    "**Explanation 0**\n",
    "\n",
    "Given list is $[2, 3, 6, 6, 5]$. The maximum score is $6$, second maximum is $5$. Hence, we print $5$ as the runner-up score. "
   ]
  },
  {
   "cell_type": "markdown",
   "metadata": {},
   "source": [
    "## My implementation"
   ]
  },
  {
   "cell_type": "markdown",
   "metadata": {},
   "source": [
    "I made a set from the input list, so I do not need to work with duplicated values. The runner-up score is the value behind the last value in the set.\n",
    "\n",
    "The list input is read with the map function, that split the entered values, and then convert them in integers."
   ]
  },
  {
   "cell_type": "code",
   "execution_count": null,
   "metadata": {},
   "outputs": [],
   "source": [
    "if __name__ == '__main__':\n",
    "    \n",
    "    n = int(input())\n",
    "    arr = sorted(set(map(int, input().split())))\n",
    "    \n",
    "    print(arr[-2])"
   ]
  },
  {
   "cell_type": "markdown",
   "metadata": {},
   "source": [
    "## Best implementation in the discussion"
   ]
  },
  {
   "cell_type": "markdown",
   "metadata": {},
   "source": [
    "Implementation without using `set` and `sorted`"
   ]
  },
  {
   "cell_type": "code",
   "execution_count": null,
   "metadata": {},
   "outputs": [],
   "source": [
    "if __name__ == '__main__':\n",
    "    \n",
    "    n = int(input())\n",
    "    list_ = list(map(int, input().split()))\n",
    "    \n",
    "    max_ = max(list_)\n",
    "    \n",
    "    while (max(list_) == max_):\n",
    "        list_.remove(max(list_))\n",
    "    \n",
    "    print(max(list_))"
   ]
  },
  {
   "cell_type": "code",
   "execution_count": null,
   "metadata": {},
   "outputs": [],
   "source": []
  }
 ],
 "metadata": {
  "kernelspec": {
   "display_name": "Python 3",
   "language": "python",
   "name": "python3"
  },
  "language_info": {
   "codemirror_mode": {
    "name": "ipython",
    "version": 3
   },
   "file_extension": ".py",
   "mimetype": "text/x-python",
   "name": "python",
   "nbconvert_exporter": "python",
   "pygments_lexer": "ipython3",
   "version": "3.6.5"
  }
 },
 "nbformat": 4,
 "nbformat_minor": 2
}
