{
 "cells": [
  {
   "cell_type": "markdown",
   "metadata": {},
   "source": [
    "# Basic Data Types\n",
    "\n",
    "Juan Camilo Henao Londono\n",
    "\n",
    "Exercise from [Hacker rank](https://www.hackerrank.com/challenges/nested-list/problem)"
   ]
  },
  {
   "cell_type": "markdown",
   "metadata": {},
   "source": [
    "# Nested Lists\n",
    "\n",
    "**Task**\n",
    "\n",
    "Given the names and grades for each student in a Physics class of $N$ students, store them in a nested list and print the name(s) of any student(s) having the second lowest grade.\n",
    "\n",
    "Note: If there are multiple students with the same grade, order their names alphabetically and print each name on a new line.\n",
    "\n",
    "**Input Format**\n",
    "\n",
    "The first line contains an integer, $N$, the number of students.\n",
    "The $2N$ subsequent lines describe each student over $2$ lines; the first line contains a student's name, and the second line contains their grade. \n",
    "\n",
    "**Constraints**\n",
    "\n",
    "* $2 \\le N \\le 5$\n",
    "* There will always be one or more students having the second lowest grade. \n",
    "\n",
    "**Output Format**\n",
    "\n",
    "Print the name(s) of any student(s) having the second lowest grade in Physics; if there are multiple students, order their names alphabetically and print each one on a new line.\n",
    "\n",
    "**Sample Input 0**\n",
    "\n",
    "```\n",
    "5\n",
    "Harry\n",
    "37.21\n",
    "Berry\n",
    "37.21\n",
    "Tina\n",
    "37.2\n",
    "Akriti\n",
    "41\n",
    "Harsh\n",
    "39\n",
    "```\n",
    "\n",
    "**Sample Output 0**\n",
    "\n",
    "```\n",
    "Berry\n",
    "Harry\n",
    "```\n",
    "\n",
    "**Explanation 0**\n",
    "\n",
    "There are $5$ students in this class whose names and grades are assembled to build the following list:\n",
    "\n",
    "```Python \n",
    "students = [['Harry', 37.21], ['Berry', 37.21], ['Tina', 37.2], ['Akriti', 41], ['Harsh', 39]]\n",
    "```\n",
    "\n",
    "The lowest grade of $37.2$ belongs to Tina. The second lowest grade of $37.21$ belongs to both Harry and Berry, so we order their names alphabetically and print each name on a new line."
   ]
  },
  {
   "cell_type": "markdown",
   "metadata": {},
   "source": [
    "## My implementation"
   ]
  },
  {
   "cell_type": "markdown",
   "metadata": {},
   "source": [
    "At first I wanted to sort the nested list by the second value of each list. I found in internet a way to sort it using a `key` in the function `sorted()`. Then, knowing that the lowest score can be repeated, I remove all the values that were the same as the last one. Finally I used a list comprehension to take the names of the values equal to the second lowest grade and sorted them to fullfil all the conditions."
   ]
  },
  {
   "cell_type": "code",
   "execution_count": 1,
   "metadata": {},
   "outputs": [
    {
     "name": "stdout",
     "output_type": "stream",
     "text": [
      "5\n",
      "Harsh\n",
      "20\n",
      "Beria\n",
      "20\n",
      "Varun\n",
      "19\n",
      "Kakumi\n",
      "19\n",
      "Vikas\n",
      "21\n",
      "\n",
      "Beria\n",
      "Harsh\n"
     ]
    }
   ],
   "source": [
    "if __name__ == '__main__':\n",
    "\n",
    "    students = []\n",
    "\n",
    "    for _ in range(int(input())):\n",
    "        name = input()\n",
    "        score = float(input())\n",
    "\n",
    "        students.append([name, float(score)])\n",
    "        \n",
    "    students_sorted = sorted(students, key= lambda item : item[1])\n",
    "    \n",
    "    new = []\n",
    "    \n",
    "    for i in students_sorted:\n",
    "        \n",
    "        if (i[1] != students_sorted[0][1]):\n",
    "            new.append(i)    \n",
    "        \n",
    "    students_names = [new[i][0] for i in range(len(new)) if new[i][1] == new[0][1]]\n",
    "    \n",
    "    print()\n",
    "    \n",
    "    for name in sorted(students_names):\n",
    "        print(name)"
   ]
  },
  {
   "cell_type": "markdown",
   "metadata": {},
   "source": [
    "## Best implementation in the discussion"
   ]
  },
  {
   "cell_type": "markdown",
   "metadata": {},
   "source": [
    "In this implementation, a helper `list` is created to find the value of the second lowest note. Then just look which value(s) are equal to the value and print it (them). The use of the helper list reduce the `for loops` that I had to use"
   ]
  },
  {
   "cell_type": "code",
   "execution_count": 2,
   "metadata": {},
   "outputs": [
    {
     "name": "stdout",
     "output_type": "stream",
     "text": [
      "5\n",
      "Harsh\n",
      "20\n",
      "Beria\n",
      "20\n",
      "Varun\n",
      "19\n",
      "Kakumi\n",
      "19\n",
      "Vikas\n",
      "21\n",
      "\n",
      "Beria\n",
      "Harsh\n"
     ]
    }
   ],
   "source": [
    "if __name__ == '__main__':\n",
    "\n",
    "    marksheet = []\n",
    "    scorelist = []\n",
    "\n",
    "    for _ in range(int(input())):\n",
    "        name = input()\n",
    "        score = float(input())\n",
    "        marksheet += [[name, score]]\n",
    "        scorelist += [score]\n",
    "    \n",
    "    second_low = sorted(list(set(scorelist)))[1] \n",
    "\n",
    "    print()\n",
    "    \n",
    "    for name, grade in sorted(marksheet):\n",
    "        \n",
    "        if (grade == second_low):\n",
    "            \n",
    "            print(name)\n"
   ]
  }
 ],
 "metadata": {
  "kernelspec": {
   "display_name": "Python 3",
   "language": "python",
   "name": "python3"
  },
  "language_info": {
   "codemirror_mode": {
    "name": "ipython",
    "version": 3
   },
   "file_extension": ".py",
   "mimetype": "text/x-python",
   "name": "python",
   "nbconvert_exporter": "python",
   "pygments_lexer": "ipython3",
   "version": "3.6.8"
  }
 },
 "nbformat": 4,
 "nbformat_minor": 2
}
